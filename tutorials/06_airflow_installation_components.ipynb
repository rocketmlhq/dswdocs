{
 "cells": [
  {
   "cell_type": "markdown",
   "metadata": {},
   "source": [
    "## Installation\n",
    "\n",
    "### From pip\n",
    "\n",
    "`sudo /opt/conda/bin/pip install apache-airflow`\n",
    "\n",
    "### Initialize the database\n",
    "\n",
    "`airflow initdb`\n",
    "\n",
    "### Start the web server, default port is 8080\n",
    "`airflow webserver -p 8080`\n",
    "\n",
    "### Start the scheduler\n",
    "`airflow scheduler`\n",
    "\n",
    " \n",
    "`export AIRFLOW_HOME=~/airflow`"
   ]
  },
  {
   "cell_type": "markdown",
   "metadata": {},
   "source": [
    "## Airflow Architecture\n",
    "\n",
    "<img src=\"https://miro.medium.com/max/1200/1*czjWSmrjiRY1goA0emv7IA.png\" width=750></img>\n",
    "\n",
    "### Information on all the components is stored in $AIRFLOW_HOME/airflow.cfg"
   ]
  },
  {
   "cell_type": "markdown",
   "metadata": {},
   "source": [
    "### Note: Always start the scheduluer and webserver"
   ]
  },
  {
   "cell_type": "code",
   "execution_count": null,
   "metadata": {},
   "outputs": [],
   "source": []
  }
 ],
 "metadata": {
  "kernelspec": {
   "display_name": "Python 3",
   "language": "python",
   "name": "python3"
  },
  "language_info": {
   "codemirror_mode": {
    "name": "ipython",
    "version": 3
   },
   "file_extension": ".py",
   "mimetype": "text/x-python",
   "name": "python",
   "nbconvert_exporter": "python",
   "pygments_lexer": "ipython3",
   "version": "3.7.3"
  }
 },
 "nbformat": 4,
 "nbformat_minor": 4
}
