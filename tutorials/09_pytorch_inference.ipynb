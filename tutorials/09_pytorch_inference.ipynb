{
 "cells": [
  {
   "cell_type": "code",
   "execution_count": null,
   "metadata": {},
   "outputs": [],
   "source": [
    "import mlflow\n",
    "import mlflow.pyfunc\n",
    "import mlflow.pytorch\n",
    "from  mlflow.tracking import MlflowClient\n",
    "import os\n",
    "import numpy as np\n",
    "import torch\n",
    "from torchvision import datasets, transforms\n",
    "import pandas as pd\n",
    "from PIL import Image\n",
    "import base64\n",
    "import io"
   ]
  },
  {
   "cell_type": "code",
   "execution_count": null,
   "metadata": {},
   "outputs": [],
   "source": [
    "experiment_name = \"pytorch_exp_1\"\n",
    "tracking_uri = os.environ.get(\"TRACKING_URL\")\n",
    "client = MlflowClient(tracking_uri=tracking_uri)\n",
    "mlflow.set_tracking_uri(tracking_uri)\n",
    "experiments = client.list_experiments()\n",
    "\n",
    "experiment_names = []\n",
    "for exp in experiments:\n",
    "    experiment_names.append(exp.name)\n",
    "if experiment_name not in experiment_names:\n",
    "    try:\n",
    "        mlflow.create_experiment(experiment_name)\n",
    "    except:\n",
    "        pass\n",
    "mlflow.set_experiment(experiment_name)"
   ]
  },
  {
   "cell_type": "markdown",
   "metadata": {},
   "source": [
    "### Download mnist png files from https://github.com/myleott/mnist_png\n",
    "\n",
    "```\n",
    "cd ~/\n",
    "git clone https://github.com/myleott/mnist_png\n",
    "cd mnist_png\n",
    "tar xvzf mnist_png.tar.gz\n",
    "```"
   ]
  },
  {
   "cell_type": "code",
   "execution_count": null,
   "metadata": {},
   "outputs": [],
   "source": [
    "import os\n",
    "from glob import glob\n",
    "_path = \"/home/ubuntu/mnist_png/testing/\"\n",
    "file_list = [y for x in os.walk(_path) for y in glob(os.path.join(x[0], '*.png'))]"
   ]
  },
  {
   "cell_type": "code",
   "execution_count": null,
   "metadata": {},
   "outputs": [],
   "source": [
    "test_size = min(len(file_list),100)\n",
    "file_list = file_list[:test_size]\n",
    "encoded_string_list = []\n",
    "for _file in file_list:\n",
    "    with open(_file, \"rb\") as image_file:\n",
    "        encoded_string = base64.b64encode(image_file.read()).decode('utf-8')\n",
    "    encoded_string_list.append(encoded_string)\n",
    "input_df = pd.DataFrame(encoded_string_list,columns=[\"images\"])"
   ]
  },
  {
   "cell_type": "code",
   "execution_count": null,
   "metadata": {},
   "outputs": [],
   "source": [
    "run_id = \"0a8b2e7d97e14eaea54da39a39edd7fa\"\n",
    "with mlflow.start_run(run_id=run_id):\n",
    "    loaded_model = mlflow.pyfunc.load_model(mlflow.get_artifact_uri(\"pytorch-model\"))\n",
    "\n",
    "    # Make a few predictions\n",
    "    predictions = loaded_model.predict(input_df)\n",
    "predictions"
   ]
  },
  {
   "cell_type": "markdown",
   "metadata": {},
   "source": [
    "### Sample code to test REST API Endpoint Deployment"
   ]
  },
  {
   "cell_type": "code",
   "execution_count": null,
   "metadata": {},
   "outputs": [],
   "source": [
    "import requests\n",
    "# url = \"https://mscvzavj.babyrocket.net/invocations\"\n",
    "url = \"https://mtynlegi.babyrocket.net/invocations\"\n",
    "data_json = input_df.to_json(orient=\"split\",index=False)\n",
    "headers = {\"Content-Type\":\"application/json; format=pandas-split\"}\n",
    "response = requests.post(url,data=data_json,headers=headers)\n",
    "if response.status_code == 200:\n",
    "    print(response.json())\n",
    "else:\n",
    "    print(\"REST API deployment is in progress -- please try again in a few minutes!\")"
   ]
  }
 ],
 "metadata": {
  "kernelspec": {
   "display_name": "Python 3",
   "language": "python",
   "name": "python3"
  },
  "language_info": {
   "codemirror_mode": {
    "name": "ipython",
    "version": 3
   },
   "file_extension": ".py",
   "mimetype": "text/x-python",
   "name": "python",
   "nbconvert_exporter": "python",
   "pygments_lexer": "ipython3",
   "version": "3.8.3"
  }
 },
 "nbformat": 4,
 "nbformat_minor": 4
}
