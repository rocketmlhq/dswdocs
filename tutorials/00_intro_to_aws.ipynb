{
 "cells": [
  {
   "cell_type": "markdown",
   "metadata": {},
   "source": [
    "## Introduction to AWS\n",
    "- Simple Storage Services (S3)\n",
    "- Elastic Cloud Compute (EC2)\n",
    "- AWS CLI\n",
    "- Boto3 for Python"
   ]
  },
  {
   "cell_type": "markdown",
   "metadata": {},
   "source": [
    "## Simple Storage Services (S3)\n",
    "### What is Amazon S3?\n",
    "\n",
    "Amazon S3 is object storage built to store and retrieve any amount of data from anywhere on the Internet. It’s a simple storage service that offers an extremely durable, highly available, and infinitely scalable data storage infrastructure at very low costs.\n",
    "\n",
    "### What can I do with Amazon S3?\n",
    "\n",
    "Amazon S3 provides a simple web service interface that you can use to store and retrieve any amount of data, at any time, from anywhere on the web. Using this web service, you can easily build applications that make use of Internet storage. Since Amazon S3 is highly scalable and you only pay for what you use, you can start small and grow your application as you wish, with no compromise on performance or reliability.\n",
    "\n",
    "\n",
    "### What kind of data can I store in Amazon S3?\n",
    "\n",
    "You can store virtually any kind of data in any format. Please refer to the Amazon Web Services Licensing Agreement for details.\n",
    "\n",
    "### How much data can I store in Amazon S3?\n",
    "\n",
    "The total volume of data and number of objects you can store are unlimited. Individual Amazon S3 objects can range in size from a minimum of 0 bytes to a maximum of 5 terabytes. The largest object that can be uploaded in a single PUT is 5 gigabytes. For objects larger than 100 megabytes, customers should consider using the Multipart Upload capability.\n",
    "\n",
    "### What are the key components of S3?\n",
    "To upload your data (photos, videos, documents etc.) to Amazon S3, you must first create an **S3 bucket** in one of the AWS Regions. You can then upload any number of **objects** (files) to the bucket.\n",
    "\n",
    "In terms of implementation, buckets and objects are resources, and Amazon S3 provides APIs for you to manage them. For example, you can create a bucket and upload objects using the Amazon S3 API. You can also use the Amazon S3 console to perform these operations. The console uses the Amazon S3 APIs to send requests to Amazon S3.\n",
    "\n",
    "### How do I interface with Amazon S3?\n",
    "\n",
    "Amazon S3 provides a simple, standards-based REST web services interface that is designed to work with any Internet-development toolkit. The operations are intentionally made simple to make it easy to add new distribution protocols and functional layers.\n",
    "\n",
    "Use **boto3** for programmatic access or **awscli** for command-line access\n",
    "\n",
    "### Which S3 buckets can I access?\n",
    "\n",
    "S3 buckets are created by your corporate IT. You can check Data Source Explorer to see the buckets that you can access."
   ]
  },
  {
   "cell_type": "markdown",
   "metadata": {},
   "source": [
    "## Elastic Cloud Compute (EC2)"
   ]
  },
  {
   "cell_type": "markdown",
   "metadata": {},
   "source": [
    "### What is Amazon Elastic Compute Cloud (Amazon EC2)?\n",
    "\n",
    "Amazon Elastic Compute Cloud (Amazon EC2) is a web service that provides resizable compute capacity in the cloud. It is designed to make web-scale computing easier for developers.\n",
    "\n",
    "### What can I do with Amazon EC2?\n",
    "\n",
    "Just as Amazon Simple Storage Service (Amazon S3) enables storage in the cloud, Amazon EC2 enables “compute” in the cloud. Amazon EC2’s simple web service interface allows you to obtain and configure capacity with minimal friction. It provides you with complete control of your computing resources and lets you run on Amazon’s proven computing environment. Amazon EC2 reduces the time required to obtain and boot new server instances to minutes, allowing you to quickly scale capacity, both up and down, as your computing requirements change. Amazon EC2 changes the economics of computing by allowing you to pay only for capacity that you actually use.\n",
    "\n",
    "### How quickly will systems be running?\n",
    "\n",
    "It typically takes less than 10 minutes from the issue of the RunInstances call to the point where all requested instances begin their boot sequences. This time depends on a number of factors including: the size of your AMI, the number of instances you are launching, and how recently you have launched that AMI. Images launched for the first time may take slightly longer to boot.\n",
    "\n",
    "### What are EC2 Instance types?\n",
    "Amazon EC2 provides a wide selection of instance types optimized to fit different use cases. Instance types comprise varying combinations of CPU, memory, storage, and networking capacity and give you the flexibility to choose the appropriate mix of resources for your applications. Each instance type includes one or more instance sizes, allowing you to scale your resources to the requirements of your target workload.\n",
    "https://aws.amazon.com/ec2/instance-types/\n",
    "\n",
    "### What do I have access to?\n",
    "Access to specific instance types is determined by your corporate IT and Admin team."
   ]
  },
  {
   "cell_type": "markdown",
   "metadata": {},
   "source": [
    "### How do I check instance information?"
   ]
  },
  {
   "cell_type": "code",
   "execution_count": 34,
   "metadata": {},
   "outputs": [
    {
     "name": "stdout",
     "output_type": "stream",
     "text": [
      "ami-id\n",
      "ami-launch-index\n",
      "ami-manifest-path\n",
      "block-device-mapping/\n",
      "events/\n",
      "hostname\n",
      "iam/\n",
      "identity-credentials/\n",
      "instance-action\n",
      "instance-id\n",
      "instance-type\n",
      "local-hostname\n",
      "local-ipv4\n",
      "mac\n",
      "metrics/\n",
      "network/\n",
      "placement/\n",
      "profile\n",
      "public-hostname\n",
      "public-ipv4\n",
      "public-keys/\n",
      "reservation-id\n",
      "security-groups\n",
      "services/"
     ]
    }
   ],
   "source": [
    "!curl http://169.254.169.254/latest/meta-data/"
   ]
  },
  {
   "cell_type": "markdown",
   "metadata": {},
   "source": [
    "## AWS Command-line-interface (CLI)"
   ]
  },
  {
   "cell_type": "markdown",
   "metadata": {},
   "source": [
    "### What is AWS CLI?\n",
    "\n",
    "The AWS Command Line Interface (AWS CLI) is a unified tool that provides a consistent interface for interacting with all parts of AWS. AWS CLI commands for different services are covered in the accompanying user guide, including descriptions, syntax, and usage examples.\n",
    "\n",
    "https://docs.aws.amazon.com/cli/latest/reference/"
   ]
  },
  {
   "cell_type": "markdown",
   "metadata": {},
   "source": [
    "### Where can I find S3 cli options?\n",
    "https://docs.aws.amazon.com/cli/latest/reference/s3/index.html"
   ]
  },
  {
   "cell_type": "markdown",
   "metadata": {},
   "source": [
    "### What is the most commonly used command?\n",
    "Command to copy S3 object to a location locally.\n",
    "\n",
    "\n",
    "https://docs.aws.amazon.com/cli/latest/reference/s3/cp.html"
   ]
  },
  {
   "cell_type": "markdown",
   "metadata": {},
   "source": [
    "## AWS Boto3 SDK\n",
    "\n",
    "### What is Boto3 SDK?\n",
    "Boto is the Amazon Web Services (AWS) SDK for Python. It enables Python developers to create, configure, and manage AWS services, such as EC2 and S3. Boto provides an easy to use, object-oriented API, as well as low-level access to AWS services.\n",
    "\n",
    "https://boto3.amazonaws.com/v1/documentation/api/latest/index.html"
   ]
  },
  {
   "cell_type": "markdown",
   "metadata": {},
   "source": [
    "### How do I download a file from S3 using boto3?\n",
    "\n",
    "Please check the code sample provided in reference below.\n",
    "\n",
    "https://boto3.amazonaws.com/v1/documentation/api/latest/guide/s3-example-download-file.html"
   ]
  },
  {
   "cell_type": "markdown",
   "metadata": {},
   "source": [
    "### How can I use this from R?\n",
    "\n",
    "You can use boto3 Python library from R using reticulate. The reticulate package provides a comprehensive set of tools for interoperability between Python and R https://rstudio.github.io/reticulate/"
   ]
  }
 ],
 "metadata": {
  "kernelspec": {
   "display_name": "Python 3",
   "language": "python",
   "name": "python3"
  },
  "language_info": {
   "codemirror_mode": {
    "name": "ipython",
    "version": 3
   },
   "file_extension": ".py",
   "mimetype": "text/x-python",
   "name": "python",
   "nbconvert_exporter": "python",
   "pygments_lexer": "ipython3",
   "version": "3.7.3"
  }
 },
 "nbformat": 4,
 "nbformat_minor": 4
}
